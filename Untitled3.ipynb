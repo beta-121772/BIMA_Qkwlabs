{
  "nbformat": 4,
  "nbformat_minor": 0,
  "metadata": {
    "colab": {
      "provenance": [],
      "authorship_tag": "ABX9TyPNZ+w4/FyltQF+AEAnplse",
      "include_colab_link": true
    },
    "kernelspec": {
      "name": "python3",
      "display_name": "Python 3"
    },
    "language_info": {
      "name": "python"
    }
  },
  "cells": [
    {
      "cell_type": "markdown",
      "metadata": {
        "id": "view-in-github",
        "colab_type": "text"
      },
      "source": [
        "<a href=\"https://colab.research.google.com/github/beta-121772/BIMA_Qkwlabs/blob/main/Untitled3.ipynb\" target=\"_parent\"><img src=\"https://colab.research.google.com/assets/colab-badge.svg\" alt=\"Open In Colab\"/></a>"
      ]
    },
    {
      "cell_type": "code",
      "source": [
        "import urllib.request\n",
        "import zipfile\n",
        "import tensorflow as tf\n",
        "import os\n",
        "#from keras_preprocessing.image import ImageDataGenerator\n",
        "from tensorflow.keras.preprocessing.image import ImageDataGenerator\n",
        "from tensorflow.keras.optimizers import RMSprop\n",
        "\n",
        "\n",
        "def solution_A2():\n",
        "    data_url_1 = 'https://github.com/dicodingacademy/assets/releases/download/release-horse-or-human/horse-or-human.zip'\n",
        "    urllib.request.urlretrieve(data_url_1, 'horse-or-human.zip')\n",
        "    local_file = 'horse-or-human.zip'\n",
        "    zip_ref = zipfile.ZipFile(local_file, 'r')\n",
        "    zip_ref.extractall('data/horse-or-human')\n",
        "\n",
        "    data_url_2 = 'https://github.com/dicodingacademy/assets/raw/main/Simulation/machine_learning/validation-horse-or-human.zip'\n",
        "    urllib.request.urlretrieve(data_url_2, 'validation-horse-or-human.zip')\n",
        "    local_file = 'validation-horse-or-human.zip'\n",
        "    zip_ref = zipfile.ZipFile(local_file, 'r')\n",
        "    zip_ref.extractall('data/validation-horse-or-human')\n",
        "    zip_ref.close()\n",
        "\n",
        "    TRAINING_DIR = 'data/horse-or-human'\n",
        "    train_datagen = ImageDataGenerator(\n",
        "        rescale=1.0/255.0,\n",
        "        rotation_range=40,\n",
        "        width_shift_range=0.2,\n",
        "        height_shift_range=0.2,\n",
        "        shear_range=0.2,\n",
        "        zoom_range=0.2,\n",
        "        horizontal_flip=True,\n",
        "        fill_mode='nearest'\n",
        "    )\n",
        "\n",
        "    train_generator = train_datagen.flow_from_directory(\n",
        "        TRAINING_DIR,\n",
        "        target_size=(150, 150),\n",
        "        batch_size=128,\n",
        "        class_mode='binary'\n",
        "    )\n",
        "\n",
        "    model = tf.keras.models.Sequential([\n",
        "        tf.keras.layers.Conv2D(16, (3, 3), activation='relu', input_shape=(150, 150, 3)),\n",
        "        tf.keras.layers.MaxPooling2D(2, 2),\n",
        "        tf.keras.layers.Conv2D(32, (3, 3), activation='relu'),\n",
        "        tf.keras.layers.MaxPooling2D(2, 2),\n",
        "        tf.keras.layers.Conv2D(64, (3, 3), activation='relu'),\n",
        "        tf.keras.layers.MaxPooling2D(2, 2),\n",
        "        tf.keras.layers.Conv2D(128, (3, 3), activation='relu'),\n",
        "        tf.keras.layers.MaxPooling2D(2, 2),\n",
        "        tf.keras.layers.Flatten(),\n",
        "        tf.keras.layers.Dense(512, activation='relu'),\n",
        "        tf.keras.layers.Dense(1, activation='sigmoid')\n",
        "    ])\n",
        "\n",
        "    model.compile(optimizer=RMSprop(lr=0.001), loss='binary_crossentropy', metrics=['accuracy'])\n",
        "\n",
        "    history = model.fit(\n",
        "        train_generator,\n",
        "        steps_per_epoch=8,\n",
        "        epochs=15,\n",
        "        verbose=1\n",
        "    )\n",
        "\n",
        "    return model\n",
        "\n",
        "\n",
        "if __name__ == '__main__':\n",
        "    model = solution_A2()\n",
        "    model.save(\"model_A2.h5\")\n"
      ],
      "metadata": {
        "colab": {
          "base_uri": "https://localhost:8080/"
        },
        "id": "fdiD_1TcG4eT",
        "outputId": "7498957b-9cdb-4bbc-c481-4d84992341a7"
      },
      "execution_count": 5,
      "outputs": [
        {
          "output_type": "stream",
          "name": "stdout",
          "text": [
            "Found 1027 images belonging to 2 classes.\n"
          ]
        },
        {
          "output_type": "stream",
          "name": "stderr",
          "text": [
            "WARNING:absl:`lr` is deprecated in Keras optimizer, please use `learning_rate` or use the legacy optimizer, e.g.,tf.keras.optimizers.legacy.RMSprop.\n"
          ]
        },
        {
          "output_type": "stream",
          "name": "stdout",
          "text": [
            "Epoch 1/15\n",
            "8/8 [==============================] - 36s 4s/step - loss: 1.3460 - accuracy: 0.5195\n",
            "Epoch 2/15\n",
            "8/8 [==============================] - 33s 4s/step - loss: 0.6960 - accuracy: 0.4661\n",
            "Epoch 3/15\n",
            "8/8 [==============================] - 34s 4s/step - loss: 0.6850 - accuracy: 0.5740\n",
            "Epoch 4/15\n",
            "8/8 [==============================] - 33s 4s/step - loss: 0.7235 - accuracy: 0.5851\n",
            "Epoch 5/15\n",
            "8/8 [==============================] - 31s 4s/step - loss: 0.6733 - accuracy: 0.6418\n",
            "Epoch 6/15\n",
            "8/8 [==============================] - 32s 4s/step - loss: 0.7182 - accuracy: 0.6174\n",
            "Epoch 7/15\n",
            "8/8 [==============================] - 33s 4s/step - loss: 0.6349 - accuracy: 0.6585\n",
            "Epoch 8/15\n",
            "8/8 [==============================] - 34s 4s/step - loss: 0.6476 - accuracy: 0.6474\n",
            "Epoch 9/15\n",
            "8/8 [==============================] - 34s 4s/step - loss: 0.5613 - accuracy: 0.7186\n",
            "Epoch 10/15\n",
            "8/8 [==============================] - 37s 4s/step - loss: 0.6220 - accuracy: 0.6934\n",
            "Epoch 11/15\n",
            "8/8 [==============================] - 33s 4s/step - loss: 0.5448 - accuracy: 0.7264\n",
            "Epoch 12/15\n",
            "8/8 [==============================] - 34s 4s/step - loss: 0.9513 - accuracy: 0.6830\n",
            "Epoch 13/15\n",
            "8/8 [==============================] - 32s 4s/step - loss: 0.7865 - accuracy: 0.7375\n",
            "Epoch 14/15\n",
            "8/8 [==============================] - 34s 4s/step - loss: 0.4959 - accuracy: 0.7664\n",
            "Epoch 15/15\n",
            "8/8 [==============================] - 32s 4s/step - loss: 0.4852 - accuracy: 0.7564\n"
          ]
        }
      ]
    }
  ]
}